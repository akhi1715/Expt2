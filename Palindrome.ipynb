{
  "nbformat": 4,
  "nbformat_minor": 0,
  "metadata": {
    "colab": {
      "provenance": [],
      "authorship_tag": "ABX9TyP+fNiwRKY+Acig8laQJ2wW",
      "include_colab_link": true
    },
    "kernelspec": {
      "name": "python3",
      "display_name": "Python 3"
    },
    "language_info": {
      "name": "python"
    }
  },
  "cells": [
    {
      "cell_type": "markdown",
      "metadata": {
        "id": "view-in-github",
        "colab_type": "text"
      },
      "source": [
        "<a href=\"https://colab.research.google.com/github/akhi1715/Expt2/blob/main/Palindrome.ipynb\" target=\"_parent\"><img src=\"https://colab.research.google.com/assets/colab-badge.svg\" alt=\"Open In Colab\"/></a>"
      ]
    },
    {
      "cell_type": "code",
      "execution_count": 5,
      "metadata": {
        "colab": {
          "base_uri": "https://localhost:8080/"
        },
        "id": "1hi8HpD5IJ9-",
        "outputId": "beee8244-a3fe-4f0b-919b-8c7be8f1d910"
      },
      "outputs": [
        {
          "output_type": "stream",
          "name": "stdout",
          "text": [
            "PALINDROME !\n"
          ]
        }
      ],
      "source": [
        "str = 'JaVaJ'\n",
        "strstr = str.casefold()\n",
        "\n",
        "# This string is reverse.\n",
        "rev = reversed(str)\n",
        "\n",
        "if list(str) == list(rev):\n",
        "   print(\"PALINDROME !\")\n",
        "else:\n",
        "   print(\"NOT PALINDROME !\")"
      ]
    }
  ]
}